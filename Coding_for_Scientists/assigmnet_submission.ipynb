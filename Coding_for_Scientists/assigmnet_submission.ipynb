{
 "cells": [
  {
   "cell_type": "markdown",
   "metadata": {},
   "source": [
    "# Bio723P Coding for Scientists Final Assignment, 2021/22"
   ]
  },
  {
   "cell_type": "markdown",
   "metadata": {},
   "source": [
    "This assignment counts towards 100% of the marks for this module. The assignment is divided into four questions, each carrying 25 marks."
   ]
  },
  {
   "cell_type": "markdown",
   "metadata": {},
   "source": [
    "## Student name and number\n",
    "Enter your full name and student number in the cell below"
   ]
  },
  {
   "cell_type": "markdown",
   "metadata": {},
   "source": [
    "full name: Jack Coutts\n",
    "\n",
    "student number: 210653579"
   ]
  },
  {
   "cell_type": "markdown",
   "metadata": {},
   "source": [
    "\n",
    "## Deadline and submission\n",
    "\n",
    "Complete this notebook with your code, compress it and submit it as a single .zip or .gz file through the QMPlus page by the following deadline:\n",
    "\n",
    "    Friday Nov 5th, 24:00 midnight\n",
    "\n",
    "\n",
    "## Submission checklist\n",
    "\n",
    "* Notebook is written in Python 3 and can be opened and run on the EECS/SBCS JupyterHub.\n",
    "* Any import statements are grouped in the cell provided at the end of this introduction; name and version of the library are given in a comment. There should be no other import statements in the notebook.\n",
    "* Notebook functions pass all tests when cells are run with a fresh kernel from top to bottom.\n",
    "* Notebook only contains well commented answer code and the original tests. Please remove your own test code.\n",
    "* Notebook includes the full name and student number of the author.\n",
    "* Zip file containing the notebook is free from errors.\n",
    "\n",
    "Please refrain from editing the text of the assignment and the test code provided. Feel free to insert text or code cells as needed, but please clean up rough work that you do not wish to be marked.\n",
    "\n",
    "## Marking\n",
    "\n",
    "Your work will be marked **automatically**. Marks will be based on:\n",
    "\n",
    "        completeness and correctness: 100%\n",
    "        \n",
    "For automatic marking to function appropriately, each of your answers **must** pass the tests provided when running the notebook from top to bottom on a fresh kernel. Code that does not pass the tests or is not run (directly or indirectly, e.g. a function calling another function) by the functions you are asked to implement will **not** be marked.\n",
    "\n",
    "The test code provided with each question does **not** ensure that your submission is correct; it only ensures that it can be marked automatically. You will need to test your code independently for correctness; however, please remove your test code from your final submission, and do not submit any test data; the marking script will test your code with its own choice of data.\n",
    "\n",
    "## How to answer questions\n",
    "\n",
    "This assignment contains four questions, that can in principle be tackled in any order. However, we suggest that you answer Question 3 before attempting Question 4.\n",
    "\n",
    "Each question will require you to code a few functions. As you progress through the subquestions, you may have to rely on your answer to previous subquestions to perform some operations. Please call the relevant functions and avoid duplicating code.  \n",
    "\n",
    "\n",
    "## Use of libraries\n",
    "\n",
    "This assignment is designed to be feasible using only the functions in the Python standard library, and we recommend that you do not use anything else. However, you are free to use any library available in PyPI if you think that would make your work easier. If you do decide to use any additional libraries, these must be installable from PyPI using *pip*. Specify in the cell below all necessary import statements; for functions that are not part of the standard library, include the name and version of the library in a comment."
   ]
  },
  {
   "cell_type": "code",
   "execution_count": 1,
   "metadata": {},
   "outputs": [],
   "source": [
    "# Please put all your import statements here, according to the example. Include a comment with the name of \n",
    "# the library and its version. Do not include import statements in the rest of the code\n",
    "\n",
    "# Example:\n",
    "# Biopython v 1.78\n",
    "# import Bio # this would obviously be uncommented if you are importing Biopython"
   ]
  },
  {
   "cell_type": "markdown",
   "metadata": {},
   "source": [
    "## Preliminary reading\n",
    "\n",
    "Please read the PDF file ```BIO723P_Assignment_Background.pdf``` distributed with this assigment carefully before you start coding."
   ]
  },
  {
   "cell_type": "markdown",
   "metadata": {},
   "source": [
    "# Question 1: Primers and melting temperature"
   ]
  },
  {
   "cell_type": "markdown",
   "metadata": {},
   "source": [
    "### Question 1.a: Reading a DNA sequence from a file\n",
    "\n",
    "Write a python function called ```readDNAsequence``` that takes as its argument the name of a file.  When passed the name of a FASTA file, the function should read the file, discard the header and return the sequence as a string. Your code should raise ```BadSequenceException``` (defined below) if the sequence part of the file contains characters that are not one of the letters A, C, T, G, U. All U nucleotides should be replaced by T in the returned string (for simplicity, we will be working with T only throughout the rest of this assignment)."
   ]
  },
  {
   "cell_type": "code",
   "execution_count": 2,
   "metadata": {},
   "outputs": [],
   "source": [
    "# Run this cell to define the exception\n",
    "class BadSequenceException(Exception):\n",
    "    pass"
   ]
  },
  {
   "cell_type": "code",
   "execution_count": 3,
   "metadata": {},
   "outputs": [],
   "source": [
    "def readDNAsequence(filename):\n",
    "    \n",
    "    # Open file and set to read\n",
    "    with open(filename, 'r') as f:\n",
    "        \n",
    "        # Create empty string which will\n",
    "        # be filled as the output\n",
    "        protein=''\n",
    "        \n",
    "        # Remove header lines with >\n",
    "        # Finish when you reach an empty line\n",
    "        # For other lines remove supplementary characters\n",
    "        # , change to upper case, and replace U with T\n",
    "        for line in f:\n",
    "            if '>' in line:\n",
    "                continue\n",
    "            elif line =='':\n",
    "                break\n",
    "            else:\n",
    "                p=line.rstrip().upper().replace('U','T')\n",
    "                \n",
    "                # Raise the correct error is non-nucleotide\n",
    "                for i in p:\n",
    "                    if i not in 'ATCG':\n",
    "                        raise BadSequenceException(i, ' is not a nucleotide - incorrect sequence.')\n",
    "                        \n",
    "                # If all requirements satified add charcter to string\n",
    "                protein+=p\n",
    "        \n",
    "        # Output string of nucleotides\n",
    "        return protein"
   ]
  },
  {
   "cell_type": "code",
   "execution_count": 4,
   "metadata": {},
   "outputs": [
    {
     "name": "stdout",
     "output_type": "stream",
     "text": [
      "OK\n"
     ]
    }
   ],
   "source": [
    "# Test code\n",
    "import os\n",
    "with open(\"test9876345.fas\", \"wt\") as _OUTF:\n",
    "    _OUTF.write(\"> test\\n\")\n",
    "    _OUTF.write(\"ACTG\\n\")\n",
    "_seq=readDNAsequence(\"test9876345.fas\")\n",
    "assert type(_seq) is type(\"\"), \"Return value is not a string: %r\" % _seq\n",
    "os.remove(\"test9876345.fas\")\n",
    "print(\"OK\")"
   ]
  },
  {
   "cell_type": "markdown",
   "metadata": {},
   "source": [
    "### Question 1.b: Computing the complement of a sequence"
   ]
  },
  {
   "cell_type": "markdown",
   "metadata": {},
   "source": [
    "Write a function called ```complement``` that takes a string containing a DNA sequence as its only  parameter and returns the complement of the sequence in a string. The function should raise ```BadSequenceException``` if the argument sequence contains anything else than the four characters A, C, T, G. Do not reverse the string; for the avoidance of doubt, if the input string starts with A then the complement string should start with T.\n"
   ]
  },
  {
   "cell_type": "code",
   "execution_count": 5,
   "metadata": {},
   "outputs": [],
   "source": [
    "# Your code here\n",
    "\n",
    "def complement(string):\n",
    "    \n",
    "    # Define complementary pairs \n",
    "    comps={'A':'T', 'T': 'A', 'C': 'G', 'G': 'C'}\n",
    "    \n",
    "    # Turn sequence string to list\n",
    "    lst=list(string.upper())\n",
    "    \n",
    "    # Check for non-nucleotides\n",
    "    for i in lst:\n",
    "        if i not in comps:\n",
    "            raise BadSequenceException (i, ' is not a nucleotide - incorrect sequence.')\n",
    "    \n",
    "    # Change nucleotides in sequence to their complement\n",
    "    # then turn back into string\n",
    "    seq=(''.join([comps.get(i) for i in lst]))\n",
    "    \n",
    "    return seq \n"
   ]
  },
  {
   "cell_type": "code",
   "execution_count": 6,
   "metadata": {},
   "outputs": [
    {
     "name": "stdout",
     "output_type": "stream",
     "text": [
      "OK\n"
     ]
    }
   ],
   "source": [
    "# Test code\n",
    "_seq=complement(\"ACGTTTCG\")\n",
    "assert type(_seq) is type(\"\"), \"Return value is not a string: %r\" % _seq\n",
    "print(\"OK\")"
   ]
  },
  {
   "cell_type": "markdown",
   "metadata": {},
   "source": [
    "### Question 1.c: Extracting primers"
   ]
  },
  {
   "cell_type": "markdown",
   "metadata": {},
   "source": [
    "Write a function called ```primer``` that takes three parameters: a DNA sequence called ```sequence```, an integer ```length``` that is 20 by default and a Boolean value ```forward``` that is ```True``` by default. When ```forward``` is ```True``` (or is not passed), the function should return a Forward primer for the sequence passed as ```sequence```; when it is ```False```, it should return a  Reverse primer. The length of the primer is specified by ```length```; if this is not passed, a primer of length 20 should be returned.  Refer to the Background document for a definition of primers and how to compute them (for the avoidance of doubt, if the sequence string ends with a C, then the reverse primer string should start with a G). If the sequence is shorter than ```length``` nucleotides, your code should raise a ```BadSequenceException```.\n"
   ]
  },
  {
   "cell_type": "code",
   "execution_count": 7,
   "metadata": {},
   "outputs": [],
   "source": [
    "# Your code here\n",
    "\n",
    "def primer(sequence, length=20, forward=True):\n",
    "    # Sequence is too short\n",
    "    slen=len(sequence)\n",
    "    if slen<length:\n",
    "        raise BadSequenceException ('Invalid sequence - sequence shorter than primer length')\n",
    "    #Forward primer \n",
    "    if forward==True:\n",
    "        front=sequence[:length]\n",
    "        return front\n",
    "    \n",
    "    #Reverse Primer\n",
    "    else:\n",
    "        back=sequence[-length:]\n",
    "        c=complement(back)\n",
    "        rv=c[::-1]\n",
    "        return rv\n",
    "\n"
   ]
  },
  {
   "cell_type": "code",
   "execution_count": 8,
   "metadata": {},
   "outputs": [
    {
     "name": "stdout",
     "output_type": "stream",
     "text": [
      "OK\n"
     ]
    }
   ],
   "source": [
    "# Test code\n",
    "_seq=primer(sequence=\"AAAAATTTTTCCCCCGGGGGAAAAA\", length= 20, forward=False)\n",
    "assert type(_seq) is type(\"\"), \"Return value is not a string: %r\" % _seq\n",
    "print(\"OK\")"
   ]
  },
  {
   "cell_type": "markdown",
   "metadata": {},
   "source": [
    "### Question 1.d: Computing the melting temperature"
   ]
  },
  {
   "cell_type": "markdown",
   "metadata": {},
   "source": [
    "Write a function called ```meltingTemp``` that takes a string representing a primer as its argument. The function should return the melting temperature of the primer in degrees Celsius according to the equation given in the Background document. If the sequence contains characters other than A, C, T, G, the function should raise a ```BadSequenceException```."
   ]
  },
  {
   "cell_type": "code",
   "execution_count": 9,
   "metadata": {},
   "outputs": [],
   "source": [
    "# Your code here\n",
    "\n",
    "def meltingTemp(primerstr):\n",
    "    # Exception\n",
    "    primerstr=primerstr.upper()\n",
    "    for i in primerstr:\n",
    "        if i not in 'ATCG':\n",
    "            raise BadSequenceException (i, ' is not a nucleotide - incorrect sequence.')\n",
    "    #Metling temp\n",
    "    A=primerstr.count('A')\n",
    "    T=primerstr.count('T')\n",
    "    C=primerstr.count('C')\n",
    "    G=primerstr.count('G')\n",
    "    tmp=4*(G+C)+(2*(A+T))\n",
    "    return tmp\n"
   ]
  },
  {
   "cell_type": "code",
   "execution_count": 10,
   "metadata": {},
   "outputs": [
    {
     "name": "stdout",
     "output_type": "stream",
     "text": [
      "OK\n"
     ]
    }
   ],
   "source": [
    "# Test code\n",
    "_temp=meltingTemp(\"AAAAATTTTTCCCCCGGGGG\")\n",
    "assert ((type(_temp) is type(0.0)) or\n",
    "        (type(_temp) is type(0))), \"Return value is not a number: %r\" % _temp\n",
    "print(\"OK\")"
   ]
  },
  {
   "cell_type": "markdown",
   "metadata": {},
   "source": [
    "### Question 1.e: Putting it all together\n",
    "\n",
    "Write a function called ```sequencePCRtemp``` that takes a string containing the name of a FASTA file as its argument. The function should return the average melting temperature of the two primers of the sequence as a ```float```."
   ]
  },
  {
   "cell_type": "code",
   "execution_count": 11,
   "metadata": {},
   "outputs": [],
   "source": [
    "# Your code here\n",
    "\n",
    "def sequencePCRtemp(fasta):\n",
    "    #Read sequence\n",
    "    s=readDNAsequence(fasta)\n",
    "    #Find forward primers\n",
    "    forw=primer(s)\n",
    "    #Find reverse Primers\n",
    "    rev=primer(s, forward=False)\n",
    "    #Forward melting temp\n",
    "    m_forw=meltingTemp(forw)\n",
    "    #Reverse melting temp \n",
    "    m_rev=meltingTemp(rev)\n",
    "    #Average of the melting temps\n",
    "    avmt=float((m_forw+m_rev)/2)\n",
    "    \n",
    "    return avmt\n"
   ]
  },
  {
   "cell_type": "code",
   "execution_count": 12,
   "metadata": {},
   "outputs": [
    {
     "name": "stdout",
     "output_type": "stream",
     "text": [
      "OK\n"
     ]
    }
   ],
   "source": [
    "# Test code\n",
    "import os\n",
    "with open(\"test9876346.fas\", \"wt\") as _OUTF:\n",
    "    _OUTF.write(\"> test\\n\")\n",
    "    _OUTF.write(\"AAAAACCCCCTTTTTGGGGGAAAAA\\n\")\n",
    "_temp=sequencePCRtemp(\"test9876346.fas\")\n",
    "assert type(_temp) is type(0.0), \"Return value is not a float: %r\" % _temp\n",
    "os.remove(\"test9876346.fas\")\n",
    "print(\"OK\")"
   ]
  },
  {
   "cell_type": "markdown",
   "metadata": {},
   "source": [
    "# Question 2: Translation and reading frames"
   ]
  },
  {
   "cell_type": "markdown",
   "metadata": {},
   "source": [
    "### Question 2.a: Reading frames\n",
    "Write a function ```translate``` that takes a string containing a DNA sequence as its input and outputs a Python dictionary containing the translation of the sequence in all possible reading frames. The keys of the dictionary should be ```f1```, ```f2```, ```f3``` for the three forward frames and ```r1```, ```r2``` and ```r3``` for the reverse reading frames; the value of each key should be the translation of the sequence in the corresponding frame.\n",
    "For simplicity and ease of debugging, **do not complement the sequence** when computing the reverse reading frames; just reverse it. Use an asterisk (```*```) to represent stop codons. Always translate the entire sequence."
   ]
  },
  {
   "cell_type": "code",
   "execution_count": 13,
   "metadata": {},
   "outputs": [],
   "source": [
    "# Your code here\n",
    "\n",
    "def translate(sequence):\n",
    "    \n",
    "    #Translation dictionary\n",
    "    dictionary= {\n",
    "    'ATA':'I', 'ATC':'I', 'ATT':'I', 'ATG':'M',\n",
    "    'ACA':'T', 'ACC':'T', 'ACG':'T', 'ACT':'T',\n",
    "    'AAC':'N', 'AAT':'N', 'AAA':'K', 'AAG':'K',\n",
    "    'AGC':'S', 'AGT':'S', 'AGA':'R', 'AGG':'R',\n",
    "    'CTA':'L', 'CTC':'L', 'CTG':'L', 'CTT':'L',\n",
    "    'CCA':'P', 'CCC':'P', 'CCG':'P', 'CCT':'P',\n",
    "    'CAC':'H', 'CAT':'H', 'CAA':'Q', 'CAG':'Q',\n",
    "    'CGA':'R', 'CGC':'R', 'CGG':'R', 'CGT':'R',\n",
    "    'GTA':'V', 'GTC':'V', 'GTG':'V', 'GTT':'V',\n",
    "    'GCA':'A', 'GCC':'A', 'GCG':'A', 'GCT':'A',\n",
    "    'GAC':'D', 'GAT':'D', 'GAA':'E', 'GAG':'E',\n",
    "    'GGA':'G', 'GGC':'G', 'GGG':'G', 'GGT':'G',\n",
    "    'TCA':'S', 'TCC':'S', 'TCG':'S', 'TCT':'S',\n",
    "    'TTC':'F', 'TTT':'F', 'TTA':'L', 'TTG':'L',\n",
    "    'TAC':'Y', 'TAT':'Y', 'TAA':'*', 'TAG':'*',\n",
    "    'TGC':'C', 'TGT':'C', 'TGA':'*', 'TGG':'W'}\n",
    "    \n",
    "    #Check sequence only contains nucletides\n",
    "    for i in sequence:\n",
    "        if i not in 'ATCGatcg':\n",
    "            raise BadSequenceException (i, ' is not a nucleotide - incorrect sequence.')\n",
    "    \n",
    "    #Convert sequence to list\n",
    "    lst=list(sequence.upper())\n",
    "    rlst=list(sequence.upper())\n",
    "    rlst.reverse()\n",
    "    \n",
    "    #Create a dictionary for the reading frames\n",
    "    seqlen=len(lst)\n",
    "    codonlen=3\n",
    "    codons={'f1':'', 'f2':'', 'f3':'', 'r1':'', 'r2':'', 'r3':''}\n",
    "    codons['f1']=[''.join(lst[i:i + codonlen]) for i in range(0, seqlen, codonlen)]\n",
    "    codons['f2']=[''.join(lst[i:i + codonlen]) for i in range(1, seqlen, codonlen)]\n",
    "    codons['f3']=[''.join(lst[i:i + codonlen]) for i in range(2, seqlen, codonlen)]\n",
    "    codons['r1']=[''.join(rlst[i:i + codonlen]) for i in range(0, seqlen, codonlen)]\n",
    "    codons['r2']=[''.join(rlst[i:i + codonlen]) for i in range(1, seqlen, codonlen)]\n",
    "    codons['r3']=[''.join(rlst[i:i + codonlen]) for i in range(2, seqlen, codonlen)]\n",
    "    \n",
    "    #Translate the reading frames and convert to strings\n",
    "    def translatel(ls):\n",
    "        a=ls\n",
    "        z=''\n",
    "        for m in a:\n",
    "            if m in dictionary:\n",
    "                z+=''.join([dictionary[m]])\n",
    "        return z\n",
    "    \n",
    "    f1=codons['f1']\n",
    "    f2=codons['f2']\n",
    "    f3=codons['f3']\n",
    "    r1=codons['r1']\n",
    "    r2=codons['r2']\n",
    "    r3=codons['r3']\n",
    "    \n",
    "    codons['f1']=translatel(f1)\n",
    "    codons['f2']=translatel(f2)\n",
    "    codons['f3']=translatel(f3)\n",
    "    codons['r1']=translatel(r1)\n",
    "    codons['r2']=translatel(r2)\n",
    "    codons['r3']=translatel(r3)\n",
    "            \n",
    "    return codons\n"
   ]
  },
  {
   "cell_type": "code",
   "execution_count": 14,
   "metadata": {},
   "outputs": [
    {
     "name": "stdout",
     "output_type": "stream",
     "text": [
      "OK\n"
     ]
    }
   ],
   "source": [
    "# Test code\n",
    "_seqdic=translate(\"ACTGACTGACTGACTGACTGACTG\")\n",
    "assert type(_seqdic)==type(dict()), \"Return value is not a dictionary: %r\" % _seqdic\n",
    "assert set(_seqdic.keys())==set(['f1', 'f2', 'f3', 'r1', 'r2', 'r3']), \\\n",
    "    \"Output dictionary has incorrect/missing keys: %r\"  % _seqdic.keys()\n",
    "assert type(_seqdic['f1'])==type(\"\"), \\\n",
    "    \"Output dictionary values should be strings, not %r\" % type(_seqdic['f1'])\n",
    "print(\"OK\")"
   ]
  },
  {
   "cell_type": "markdown",
   "metadata": {},
   "source": [
    "### Question 2.b: Locating an ORF\n",
    "\n",
    "Write a function called ```openReadingFrame``` that takes a string containing an aminoacid sequence as its argument and returns a string containing the aminoacids between the first Methionine (included) and the first STOP codon that follows it (excluded). Assume the stop codon is represented by an asterisk (```*```) as would be returned by ```translate``` above. If either the Methionine or the STOP codon are missing, your function should return an empty string."
   ]
  },
  {
   "cell_type": "code",
   "execution_count": 15,
   "metadata": {},
   "outputs": [],
   "source": [
    "# Your code here\n",
    "\n",
    "def openReadingFrame(aminos):\n",
    "    \n",
    "    #Find length of amino acid string\n",
    "    length=len(aminos)\n",
    "    #Find first M\n",
    "    start=aminos.find('M')\n",
    "    #Find first * between first M and end of sequence\n",
    "    stop=aminos.find('*', start, length)\n",
    "    #If * or M not found return empty string\n",
    "    if start == -1 or stop == -1:\n",
    "        return ''\n",
    "    #Return oepn reading frame in a string\n",
    "    else:\n",
    "        orf=aminos[start:stop]\n",
    "        return orf\n"
   ]
  },
  {
   "cell_type": "code",
   "execution_count": 16,
   "metadata": {},
   "outputs": [
    {
     "name": "stdout",
     "output_type": "stream",
     "text": [
      "OK\n"
     ]
    }
   ],
   "source": [
    "# Test code\n",
    "_seq=openReadingFrame(\"AMCAPP*L\")\n",
    "assert type(_seq) is type(\"\"), \"Return value is not a string: %r\" % _seq\n",
    "print(\"OK\")"
   ]
  },
  {
   "cell_type": "markdown",
   "metadata": {},
   "source": [
    "### Question 2.c: Translating a sequence\n",
    "\n",
    "Write a function called ```candidateProtein``` that takes a string containing a DNA sequence as its input and outputs the string of aminoacids corresponding to the longest ORF, as extracted by ```openReadingFrame``` above."
   ]
  },
  {
   "cell_type": "code",
   "execution_count": 17,
   "metadata": {},
   "outputs": [],
   "source": [
    "# What if there are two the same length\n",
    "\n",
    "def candidateProtein(sequence):\n",
    "    #Translate sequence \n",
    "    frames=translate(sequence)\n",
    "    #Find open reading frame for each frame\n",
    "    orfs=[openReadingFrame(frames['f1']),\n",
    "          openReadingFrame(frames['f2']),\n",
    "          openReadingFrame(frames['f3']),\n",
    "          openReadingFrame(frames['r1']),\n",
    "          openReadingFrame(frames['r2']),\n",
    "          openReadingFrame(frames['r3'])]\n",
    "    #Sort orfs in decending order \n",
    "    orfs.sort(reverse=True, key=len)\n",
    "    #Select the longest orf - first in list \n",
    "    longestORF=str(orfs[0])\n",
    "    return longestORF\n"
   ]
  },
  {
   "cell_type": "code",
   "execution_count": 18,
   "metadata": {},
   "outputs": [
    {
     "name": "stdout",
     "output_type": "stream",
     "text": [
      "OK\n"
     ]
    }
   ],
   "source": [
    "# Test code\n",
    "_seq=candidateProtein(\"ATGACTGCTGGGTAG\")\n",
    "assert type(_seq) is type(\"\"), \"Return value is not a string: %r\" % _seq\n",
    "print(\"OK\")"
   ]
  },
  {
   "cell_type": "markdown",
   "metadata": {},
   "source": [
    "### Question 2.d: Writing a FASTA file\n",
    "\n",
    "Write a function called ```writeFASTA``` that takes three string arguments called, in the order, ```sequence```, ```description``` and ```filename```. Argument ```sequence``` should contain an aminoacid sequence. Argument ```description``` should contain a description (eg name of protein, organism, etc). Argument ```filename``` should contain a file name. Your code should create the file with the name requested, write to  it the description as a FASTA header (i.e. starting with the character ```>```) and write the sequence to the file. Long sequences should be formatted over several lines. The function should not return any value."
   ]
  },
  {
   "cell_type": "code",
   "execution_count": 19,
   "metadata": {},
   "outputs": [],
   "source": [
    "# Your code here\n",
    "\n",
    "def writeFASTA(sequence, description, filename):\n",
    "    #Open file\n",
    "    OUTF=open(filename, 'w')\n",
    "    linelen=60\n",
    "    position=0\n",
    "    #Write header\n",
    "    OUTF.write('> '+description+'\\n')\n",
    "    #Wriet out sequence \n",
    "    while sequence[position:position+linelen]!='':\n",
    "        OUTF.write(sequence[position:position+linelen]+\"\\n\")\n",
    "        position+=linelen\n",
    "    #Close file\n",
    "    OUTF.close()\n"
   ]
  },
  {
   "cell_type": "code",
   "execution_count": 20,
   "metadata": {},
   "outputs": [
    {
     "name": "stdout",
     "output_type": "stream",
     "text": [
      "OK\n"
     ]
    }
   ],
   "source": [
    "# Test code\n",
    "import os\n",
    "import os.path\n",
    "_rv=writeFASTA(sequence=\"TESTTESTTESTTESTTEST\",\n",
    "              description=\"test sequence\",\n",
    "              filename=\"test9876347.fas\")\n",
    "assert type(_rv) is type(None), \"Function should not return anything; it returns %r\" % _rv\n",
    "_fe=os.path.isfile(\"test9876347.fas\")\n",
    "assert _fe, \"Cannot find output file - has it been created?\"\n",
    "os.remove(\"test9876347.fas\")\n",
    "print(\"OK\")"
   ]
  },
  {
   "cell_type": "markdown",
   "metadata": {},
   "source": [
    "### Question 2.e: Putting it all together\n",
    "\n",
    "\n",
    "Write a function called ```maximalORF``` that takes as its argument string ```inputfile``` containing the name of an input file, string ```outputfile``` with the name of an output file and string  ```proteinname``` with a description of a candidate protein. The function should read a DNA sequence from the input file and write the candidate protein corresponding to the longest ORF to the output file, in FASTA format. The string supplied in ```proteinname``` should provide the header of the FASTA file. The function should not return any value."
   ]
  },
  {
   "cell_type": "code",
   "execution_count": 21,
   "metadata": {},
   "outputs": [],
   "source": [
    "# Your code here\n",
    "\n",
    "def maximalORF(inputfile, outputfile, proteinname):\n",
    "    #Read sequence\n",
    "    s=readDNAsequence(inputfile)\n",
    "    #Fine the orf\n",
    "    orf=candidateProtein(s)\n",
    "    #Write orf to output file\n",
    "    writeFASTA(orf, proteinname, outputfile)\n"
   ]
  },
  {
   "cell_type": "code",
   "execution_count": 22,
   "metadata": {},
   "outputs": [
    {
     "name": "stdout",
     "output_type": "stream",
     "text": [
      "OK\n"
     ]
    }
   ],
   "source": [
    "# Test code\n",
    "import os\n",
    "import os.path\n",
    "with open(\"test9876348.fas\", \"wt\") as _OUTF:\n",
    "    _OUTF.write(\"> test\\n\")\n",
    "    _OUTF.write(\"ATGACTGCTGGGTAG\\n\")\n",
    "_rv=maximalORF(inputfile=\"test9876348.fas\", outputfile=\"test9876349.fas\",\n",
    "               proteinname=\"test protein\")\n",
    "assert type(_rv) is type(None), \"Function should not return anything; it returns %r\" % _rv\n",
    "_fe=os.path.isfile(\"test9876349.fas\")\n",
    "assert _fe, \"Cannot find output file - has it been created?\"\n",
    "os.remove(\"test9876348.fas\")\n",
    "os.remove(\"test9876349.fas\")\n",
    "print(\"OK\")"
   ]
  },
  {
   "cell_type": "markdown",
   "metadata": {},
   "source": [
    "# Question 3: Classification of aminoacids"
   ]
  },
  {
   "cell_type": "markdown",
   "metadata": {},
   "source": [
    "### Question 3.a: Reading an aminoacid sequence\n",
    "\n",
    "Write a function called ```readAAsequence``` that takes as its argument the name of a file.  When passed the name of a FASTA file containing an aminoacid sequence, the function should read the file, discard the header and return the sequence as a string."
   ]
  },
  {
   "cell_type": "code",
   "execution_count": 23,
   "metadata": {},
   "outputs": [],
   "source": [
    "def readAAsequence(filename):\n",
    "    #Open file and write out sequence\n",
    "    with open(filename, 'r') as f:\n",
    "        protein=''\n",
    "        aminoa='ARNDBCQEZGHILKMFPSTWYV'\n",
    "        for i in f:\n",
    "            if '>' in i:\n",
    "                continue\n",
    "            if i =='':\n",
    "                break\n",
    "            else:\n",
    "                protein+=i.rstrip().upper()\n",
    "        # Mainly done for 3c but raises an error if invalid characters\n",
    "        for i in protein:\n",
    "            if i not in aminoa:\n",
    "                raise BadSequenceException ('Invalid sequence')\n",
    "        return protein\n"
   ]
  },
  {
   "cell_type": "code",
   "execution_count": 24,
   "metadata": {},
   "outputs": [
    {
     "name": "stdout",
     "output_type": "stream",
     "text": [
      "OK\n"
     ]
    }
   ],
   "source": [
    "# Test code\n",
    "import os\n",
    "with open(\"test9876350.fas\", \"wt\") as _OUTF:\n",
    "    _OUTF.write(\"> test\\n\")\n",
    "    _OUTF.write(\"TESTTESTTESTTESTTEST\\n\")\n",
    "_seq=readAAsequence(\"test9876350.fas\")\n",
    "os.remove(\"test9876350.fas\")\n",
    "assert type(_seq) is type(\"\"), \"Return value is not a string: %r\" % _seq\n",
    "print (\"OK\")"
   ]
  },
  {
   "cell_type": "markdown",
   "metadata": {},
   "source": [
    "### Question 3.b: Aminoacid usage statistics\n",
    "\n",
    "Write a function called ```AAtypes``` that takes as its argument a string containing a sequence of aminoacids. The function should compute, for each protein, the fraction of aminoacids that are polar, small and hydrophobic and return that as a list. For instance, if the chain of a protein contains 35% polar residues, 15% small and 50% hydrophobic residues, the function should return ```[0.35, 0.15, 0.5]``` (the order is important). Refer to the Venn diagram in the Assessment Background file for the classification of aminoacids (other Venn diagrams may differ).  Note that some aminoacids belong to more than one category, so that the sum of these three numbers can be larger than 1."
   ]
  },
  {
   "cell_type": "code",
   "execution_count": 25,
   "metadata": {},
   "outputs": [],
   "source": [
    "# Your code here\n",
    "\n",
    "def AAtypes(aminos):\n",
    "    #length of sequence\n",
    "    length=len(aminos)\n",
    "    #Dictionaries\n",
    "    polar=['C','T','S','N','D','Q','E','R','K','H','Y','W']\n",
    "    small=['P','V','A','C','T','G','S','D','N']\n",
    "    hydph=['K','H','W','Y','F','T','C','A','M','L','I','V']\n",
    "    #Count occurances\n",
    "    p=0\n",
    "    s=0\n",
    "    h=0\n",
    "    for i in aminos:\n",
    "        if i in polar:\n",
    "            p+=1\n",
    "        if i in small:\n",
    "            s+=1\n",
    "        if i in hydph:\n",
    "            h+=1\n",
    "    #Find fractions and put in list\n",
    "    fract=[(p/length),(s/length),(h/length)]\n",
    "    return fract\n"
   ]
  },
  {
   "cell_type": "code",
   "execution_count": 26,
   "metadata": {},
   "outputs": [
    {
     "name": "stdout",
     "output_type": "stream",
     "text": [
      "OK\n"
     ]
    }
   ],
   "source": [
    "# Test code\n",
    "_aatypes=AAtypes(\"TESTTESTTESTTESTTEST\")\n",
    "assert type(_aatypes) is type([]), \"Return value is not a list: %r\" % _aatypes\n",
    "assert len(_aatypes)==3, \"Returned list should contain 3 values\"\n",
    "print(\"OK\")"
   ]
  },
  {
   "cell_type": "markdown",
   "metadata": {},
   "source": [
    "### Question 3.c: Processing multiple sequences\n",
    "Write a function called ```AAtypetable``` that takes a list of strings called ```filelist``` and a separate string called ```outputfile```. Each element of ```filelist``` represents the name of a FASTA file containing an aminoacid sequence. For each filename, the function should load the sequence, compute the fraction of aminoacids that are polar, small and/or hydrophobic, and finally output this to the text file specified by ```outputfile``` in TSV (tab-separated values) tabular format. The table should contain, on each line, the name of the input file and then the percentages of polar, small and hydrophobic residues (in that order). Include a comment at the beginning of the file that starts with a ```#``` and specifies the content of each column, as follows (numbers and file names shown here are random):\n",
    "```\n",
    "# Filename     Polar     Small     Hydro\n",
    "Pxxx.fasta     0.52      0.22      0.33\n",
    "Qx3Z.fas       0.47      0.35      0.38\n",
    "...\n",
    "```\n",
    "\n",
    "Include at least two decimal places in your output; do not add any quotes or other spurious characters. Do not worry if the columns do not all look aligned; as long as consecutive values on the same line are separated by a tab, that's fine. If some of the files in ```filelist``` do not exist, contain invalid data or otherwise cause an error, your function should ignore those files and continue. However, the names of those files should be returned by your function in a list. If all files are processed without errors your function should return an empty list.\n"
   ]
  },
  {
   "cell_type": "code",
   "execution_count": 27,
   "metadata": {},
   "outputs": [],
   "source": [
    "\n",
    "def AAtypetable(filelist, outputfile):\n",
    "    \n",
    "    # Check for files that do not exist or cause another random error in\n",
    "    # readAAsequence or AAtypes they will be caught here and added to the list\n",
    "    \n",
    "    def checkfail(filelist):\n",
    "        failure=[]\n",
    "        for i in filelist:\n",
    "            try:\n",
    "                a=readAAsequence(i)\n",
    "                b=AAtypes(a)\n",
    "            except:\n",
    "                failure+=[i]\n",
    "        return failure\n",
    "    \n",
    "    #Remove from the filelist any files that have been flagged with errors\n",
    "    #Create a list containing the filenames and ratios\n",
    "    #Remove sublists\n",
    "    \n",
    "    def ratiolist(filelist):\n",
    "        a=checkfail(filelist)\n",
    "        for i in filelist:\n",
    "            if i in a:\n",
    "                filelist.remove(i)\n",
    "        p=[]\n",
    "        for i in filelist:\n",
    "            a=[i, AAtypes(readAAsequence(i))]\n",
    "            p+=a\n",
    "\n",
    "        liist = []\n",
    "        for i in p:\n",
    "            if type(i)==str:\n",
    "                i=[i]\n",
    "            liist += i\n",
    "\n",
    "        return liist\n",
    "    \n",
    "    # Using the output list from ratiolist\n",
    "    # Write to a file with the specified filename\n",
    "    # One line wirtten at a time with tabs and new lines written in the string\n",
    "    \n",
    "    def writeTSV(lists, filename):\n",
    "        with open(filename, 'wt') as f:\n",
    "            head='# Filename'+'\\t'+'Polar'+'\\t'+'Small'+'\\t'+'Hydro'+'\\n'\n",
    "            f.write(head)\n",
    "            count=0\n",
    "            for i in lists:\n",
    "                \n",
    "                if type(i)!= str:\n",
    "                    i=str(i)\n",
    "                if count <=2:\n",
    "                    f.write(i + '\\t')\n",
    "                    count+=1\n",
    "                elif count ==3:\n",
    "                    f.write(i + '\\n')\n",
    "                    count-=3\n",
    "    \n",
    "    # Check files for errors \n",
    "    \n",
    "    b=checkfail(filelist)\n",
    "    \n",
    "    # Produce list with names and ratios\n",
    "\n",
    "    ratios=ratiolist(filelist)\n",
    "    \n",
    "    # Write output TSV file\n",
    "    \n",
    "    writeTSV(ratios, outputfile)\n",
    "    \n",
    "    # Return list with files causing an error\n",
    "    \n",
    "    return b"
   ]
  },
  {
   "cell_type": "code",
   "execution_count": 28,
   "metadata": {},
   "outputs": [
    {
     "name": "stdout",
     "output_type": "stream",
     "text": [
      "OK\n"
     ]
    }
   ],
   "source": [
    "# Test code\n",
    "import os\n",
    "import os.path\n",
    "for fname in [\"_Ptest123.fas\", \"_Ptest456.fas\"]:\n",
    "    with open(fname, \"wt\") as _OUTF:\n",
    "        _OUTF.write(\"> test\\n\")\n",
    "        _OUTF.write(\"TESTTESTTESTTESTTEST\\n\")\n",
    "_rv=AAtypetable(filelist=['_Ptest123.fas','_Ptest456.fas'], outputfile=\"_table_test789.txt\")\n",
    "_fe=os.path.isfile(\"_table_test789.txt\")\n",
    "assert _fe, \"Cannot find output file - has it been created?\"\n",
    "os.remove(\"_table_test789.txt\")\n",
    "os.remove(\"_Ptest123.fas\")\n",
    "os.remove(\"_Ptest456.fas\")\n",
    "assert type(_rv) is type([]), \"Function should return a list; it returns %r\" % _rv\n",
    "print(\"OK\")"
   ]
  },
  {
   "cell_type": "markdown",
   "metadata": {},
   "source": [
    "# Question 4: Clustering proteins based on aminoacid usage"
   ]
  },
  {
   "cell_type": "markdown",
   "metadata": {},
   "source": [
    "### Question 4.a: Computing the Euclidean distance"
   ]
  },
  {
   "cell_type": "markdown",
   "metadata": {},
   "source": [
    "Write a function called ```distance``` that takes two lists of ```float``` of equal length as its arguments. The function should return the Euclidean distance between the two lists, considered as vectors in a space of dimensionality equal to the length of the lists. That is to say, it should compute the element by element difference between the two lists, square that, sum all the squares and take a square root of the final sum (see the equation [here](https://en.wikipedia.org/wiki/Euclidean_distance#Higher_dimensions)). Your function should raise a ```DimensionalityException``` if the two lists passed are not of the same length, or if they are both empty; otherwise it should return a ```float```."
   ]
  },
  {
   "cell_type": "code",
   "execution_count": 29,
   "metadata": {},
   "outputs": [],
   "source": [
    "# Run this cell to define the exception\n",
    "class DimensionalityException(Exception):\n",
    "    pass"
   ]
  },
  {
   "cell_type": "code",
   "execution_count": 30,
   "metadata": {},
   "outputs": [],
   "source": [
    "# Your code here\n",
    "\n",
    "def distance(lista, listb):\n",
    "    \n",
    "    alen=len(lista)\n",
    "    blen=len(listb)\n",
    "    if alen!=blen:\n",
    "        raise DimensionalityException ('Lists not same length')\n",
    "    elif alen==0 or blen==0:\n",
    "        raise DimensionalityException ('Lists empty')\n",
    "        \n",
    "    #squared difference between points\n",
    "    sqdiff=0\n",
    "    # zip into iterable tuples\n",
    "    it=zip(lista,listb)\n",
    "    for a,b in it:\n",
    "        sqdiff += (float(a) - float(b))**2\n",
    "    \n",
    "    # sq root of sum of squared difference\n",
    "    ed = sqdiff**0.5\n",
    "    return ed       \n"
   ]
  },
  {
   "cell_type": "code",
   "execution_count": 31,
   "metadata": {},
   "outputs": [
    {
     "name": "stdout",
     "output_type": "stream",
     "text": [
      "OK\n"
     ]
    }
   ],
   "source": [
    "# Test code\n",
    "_dist=distance([1.0, 2.0], [1.5, -1.0])\n",
    "assert type(_dist) is type(0.0), \"Return value is not a float: %r\" % _dist\n",
    "print(\"OK\")"
   ]
  },
  {
   "cell_type": "markdown",
   "metadata": {},
   "source": [
    "### Question 4.b: Reading data in tabular format\n",
    "\n",
    "Write a function called ```readTable``` that takes a string called ```filename``` as its argument. The function should read from the file specified in the argument a TSV table formatted as described at the end of Question 3 (you do not necessarily have to answer Question 3 in order to do this; you can create one such table containing arbitrary values using an editor). The function should return a dictionary with the filenames as its keys; the value associated to each key should be a list of floats, containing in order the percentages of polar, small and hydrophobic AAs, as listed in the table. So for instance, if the argument file contains the table used as an example in Question 3, ```readTable``` should return a dictionary containing at least the following items: \n",
    "```\n",
    "{ \"Pxxx.fasta\": [0.52, 0.22, 0.33],  \"Qx3Z.fas\": [0.47, 0.35, 0.38],\n",
    "... }\n",
    "```\n"
   ]
  },
  {
   "cell_type": "code",
   "execution_count": 32,
   "metadata": {},
   "outputs": [],
   "source": [
    "# Your code here\n",
    "\n",
    "def readTable(filename):\n",
    "    \n",
    "    # Read the entire file\n",
    "    # Turn new line to tab\n",
    "    # Split into list at tabs\n",
    "    extract = open(filename).read().replace('\\n','\\t').split('\\t')\n",
    "\n",
    "    # Now group them 4 at a time to produce sublists\n",
    "    sub = [extract[i:i+4] for i in range(0, (len(extract)), 4)]\n",
    "    \n",
    "    # Remove unwanted sublists\n",
    "    for i in sub:\n",
    "        if i ==['']:\n",
    "            sub.remove(i)\n",
    "        if '# Filename' in i:\n",
    "            sub.remove(i)\n",
    "    \n",
    "    # Turn back into single list - remove sublists\n",
    "    clean = []\n",
    "    for i in sub:\n",
    "        if type(i)==str:\n",
    "            i=[i]\n",
    "        clean += i\n",
    "        \n",
    "    # Turn into a dictionary with the first string every 4 \n",
    "    # being the key for a list of the following three\n",
    "    dictionary = {clean[i]: clean[i+1:i+4] for i in range(0, len(clean), 4)}\n",
    "    return dictionary\n"
   ]
  },
  {
   "cell_type": "code",
   "execution_count": 33,
   "metadata": {},
   "outputs": [
    {
     "name": "stdout",
     "output_type": "stream",
     "text": [
      "OK\n"
     ]
    }
   ],
   "source": [
    "# Test code\n",
    "import os\n",
    "with open(\"_testTable123.tsv\", \"wt\") as OUTF:\n",
    "    OUTF.write(\"# Filename\\tPolar\\tSmall\\tHydro\\n\")\n",
    "    OUTF.write(\"Pxxx.fas\\t0.52\\t0.22\\t0.33\\n\")\n",
    "    OUTF.write(\"Pyyy.fas\\t0.47\\t0.35\\t0.38\\n\")\n",
    "_tab=readTable(filename=\"_testTable123.tsv\")\n",
    "assert type(_tab) is type({}), \"Return value is not a dict: %r\" % _tab\n",
    "assert (\"Pxxx.fas\" in _tab) and (\"Pyyy.fas\" in _tab), \"Return dict missing keys\"\n",
    "os.remove(\"_testTable123.tsv\")\n",
    "print(\"OK\")"
   ]
  },
  {
   "cell_type": "markdown",
   "metadata": {},
   "source": [
    "### Question 4.c: Computing a distance matrix\n",
    "\n",
    "Write a function called ```distanceMatrix``` that takes as its argument two strings called ```inputfile``` and ```outputfile```, used to pass the names of the input and output file. The function should read from the input file a TSV table created as specified at the end of Question 3 (again, you do not necessarily have to answer Question 3 in order to do this; you can create a table with made-up data using an editor). Suppose data for N proteins are read. Your function should then create an output TSV file containing a matrix of size NxN (plus one row and one column for labels). The rows and columns of the matrix should correspond to individual protein file names, so that each matrix entry corresponds to a pair of proteins, say Pxxx and Pyyy. Such entry should contain the distance between the ```[polar, small, hydro]``` lists (considered as 3 dimensional vectors) corresponding to Pxxx and Pyyy. If done correctly, your matrix should be symmetric and have zeroes on the diagonal. Format the matrix with row and column labels as in the following 3-protein example (that contains random numbers and filenames):\n",
    "```\n",
    "# Filename      Pxxx.fas  Pyyy.fas  Pzzz.fas\n",
    "Pxxx.fas        0.00      2.34      1.51\n",
    "Pyyy.fas        2.34      0.00      1.82 \n",
    "Pzzz.fas        1.51      1.82      0.00\n",
    "\n",
    "```\n",
    "The exact alignment is not important, as long as the data are separated by tabs and the first line starts with a hash (```#```). Likewise, the order in which the proteins are listed is not important, provided the same order is used along the rows and along the columns. Do not add any quotes or other spurious characters. Your function should not return any value."
   ]
  },
  {
   "cell_type": "code",
   "execution_count": 34,
   "metadata": {},
   "outputs": [],
   "source": [
    "# Your code here\n",
    "\n",
    "def distanceMatrix(inputfile, outputfile):\n",
    "    \n",
    "    # Produce a dictionary with filename as key \n",
    "    # and ratios as values\n",
    "    inp=readTable(inputfile)\n",
    "   \n",
    "    # Create list of ratios of the dict\n",
    "    lst=[]\n",
    "    for i in inp.values():\n",
    "        lst+=i\n",
    "    \n",
    "    # Create sub lists for each file\n",
    "    slst=[lst[i:i+3] for i in range(0,len(lst),3)]\n",
    " \n",
    "    # Create dictionary where each filename corresponds to \n",
    "    # a list of distances\n",
    "    dict3={}\n",
    "    for i in inp.keys():\n",
    "        dict3[i]=[]\n",
    "    for i in dict3.keys():\n",
    "        for a in slst:\n",
    "            dict3[i]+=[distance(inp[i], a)]\n",
    "    \n",
    "    # Create lists of of dictionary3\n",
    "    dlist = []\n",
    "    for key, val in dict3.items():\n",
    "        dlist.append([key] + val)\n",
    "    \n",
    "    # Write the TSV file using the list/sublists\n",
    "    with open(outputfile, 'wt') as f:\n",
    "        # Add the '#' filename\n",
    "        head='# Filename'+'\\t'\n",
    "        f.write(head)\n",
    "        \n",
    "        # Write the column headers\n",
    "        l=len(inp.keys())\n",
    "        n=0\n",
    "        for i in inp.keys():\n",
    "            if n<(l-1):\n",
    "                f.write(i+'\\t')\n",
    "                n+=1\n",
    "            elif n==(l-1):\n",
    "                f.write(i+'\\n') \n",
    "        \n",
    "        # Write in the rows\n",
    "        count=0\n",
    "        for a in dlist:\n",
    "            for i in a:\n",
    "                if count <(l):\n",
    "                    f.write(str(i) + '\\t')\n",
    "                    count+=1\n",
    "                elif count ==(l):\n",
    "                    f.write(str(i) + '\\n')\n",
    "                    count-=l\n"
   ]
  },
  {
   "cell_type": "code",
   "execution_count": 35,
   "metadata": {},
   "outputs": [
    {
     "name": "stdout",
     "output_type": "stream",
     "text": [
      "OK\n"
     ]
    }
   ],
   "source": [
    "# Test code\n",
    "import os\n",
    "import os.path\n",
    "with open(\"_testTable123.tsv\", \"wt\") as OUTF:\n",
    "    OUTF.write(\"# Filename\\tPolar\\tSmall\\tHydro\\n\")\n",
    "    OUTF.write(\"Pxxx.fas\\t0.52\\t0.22\\t0.33\\n\")\n",
    "    OUTF.write(\"Pyyy.fas\\t0.47\\t0.35\\t0.38\\n\")\n",
    "_rv=distanceMatrix(inputfile=\"_testTable123.tsv\", outputfile=\"_testTable123out.tsv\")\n",
    "_fe=os.path.isfile(\"_testTable123out.tsv\")\n",
    "assert _fe, \"Cannot find output file - has it been created?\"\n",
    "with open(\"_testTable123out.tsv\", \"rt\") as INF:\n",
    "    _fl=INF.readline()\n",
    "assert _fl[0]=='#', \"First line of output file does not start with a #\"\n",
    "os.remove(\"_testTable123.tsv\")\n",
    "os.remove(\"_testTable123out.tsv\")\n",
    "assert type(_rv) is type(None),\"Function should not return any value; it returns %r\" % _rv\n",
    "print(\"OK\")"
   ]
  },
  {
   "cell_type": "markdown",
   "metadata": {},
   "source": [
    "### An application of this type of analysis"
   ]
  },
  {
   "cell_type": "markdown",
   "metadata": {},
   "source": [
    "Now that you have this code running, try downloading a few FASTA sequences for the [antifreeze proteins](https://pdb101.rcsb.org/motm/120) of cold water fish. Then download the sequences of other families of related proteins (eg Hemoglobin, Insulin and P53) from other species. Process these sequences according to Questions 3 and 4. Have a look at the resulting distance matrix - is any of these groups of proteins characterised by a distinctive pattern of usage of aminoacids? NOTE: no marks are assigned for this section."
   ]
  },
  {
   "cell_type": "markdown",
   "metadata": {},
   "source": [
    "## Examiners\n",
    "\n",
    "Dr Fabrizio Smeraldi *(f.smeraldi@qmul.ac.uk)*; Prof Conrad Bessant *(c.bessant@qmul.ac.uk)*"
   ]
  },
  {
   "cell_type": "code",
   "execution_count": null,
   "metadata": {},
   "outputs": [],
   "source": []
  }
 ],
 "metadata": {
  "kernelspec": {
   "display_name": "Python 3 (ipykernel)",
   "language": "python",
   "name": "python3"
  },
  "language_info": {
   "codemirror_mode": {
    "name": "ipython",
    "version": 3
   },
   "file_extension": ".py",
   "mimetype": "text/x-python",
   "name": "python",
   "nbconvert_exporter": "python",
   "pygments_lexer": "ipython3",
   "version": "3.9.6"
  }
 },
 "nbformat": 4,
 "nbformat_minor": 4
}
