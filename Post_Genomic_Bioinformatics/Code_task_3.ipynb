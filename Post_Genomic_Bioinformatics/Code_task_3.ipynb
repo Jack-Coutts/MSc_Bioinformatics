{
 "cells": [
  {
   "cell_type": "markdown",
   "id": "a16ed002-ff0f-4eef-89ad-c93a9f3812af",
   "metadata": {},
   "source": [
    "## Part 1:\n",
    "\n",
    "Download all human phosphorylation data from SIGNOR. After downloading,\n",
    "process these data such that you only retain interactions that (a) are phosphorylation, (b) are\n",
    "direct, and (c) specify the residue at which phosphorylation takes place.\n",
    "\n",
    "\n",
    "Remove all non-kinase proteins from the data-frame to reduce the size of the network.\n",
    "\n",
    "\n",
    "The data frame produced here will be used as input for cytoscape."
   ]
  },
  {
   "cell_type": "code",
   "execution_count": 17,
   "id": "a3023cb7-c360-44b0-aec9-5fedd360bfc0",
   "metadata": {},
   "outputs": [],
   "source": [
    "#Import Pandas\n",
    "import pandas as pd"
   ]
  },
  {
   "cell_type": "code",
   "execution_count": 18,
   "id": "794c453a-118f-4d7b-a21b-d29b7b25fc2d",
   "metadata": {},
   "outputs": [],
   "source": [
    "#Read in data frame\n",
    "df = pd.read_csv('human_phosphorylations_09_12_21.tsv', sep='\\t')"
   ]
  },
  {
   "cell_type": "code",
   "execution_count": 19,
   "id": "16239d7e-f8f4-457a-b989-bd9174ccad01",
   "metadata": {},
   "outputs": [],
   "source": [
    "#Subset just the rows we want - Direct phosphorylations\n",
    "\n",
    "phosdf = df[df['MECHANISM'] == 'phosphorylation']\n",
    "data = phosdf[phosdf['DIRECT'] == 'YES']\n"
   ]
  },
  {
   "cell_type": "code",
   "execution_count": 20,
   "id": "0d0ef591-af67-4490-a8cc-a1a3134f4946",
   "metadata": {},
   "outputs": [],
   "source": [
    "#Specify the columns we want\n",
    "data = data[['ENTITYB', 'RESIDUE', 'ENTITYA']]"
   ]
  },
  {
   "cell_type": "code",
   "execution_count": 21,
   "id": "ab744416-7335-4d75-b8c6-e02dc653d537",
   "metadata": {},
   "outputs": [],
   "source": [
    "#Extract residue letters in a list\n",
    "ls = []\n",
    "for i in data['RESIDUE']:\n",
    "    if 'Ser' in str(i):\n",
    "        ls+= 'S'\n",
    "    elif 'Thr' in str(i):\n",
    "        ls+= 'T'\n",
    "    elif 'Tyr' in str(i):\n",
    "        ls+= 'Y'\n",
    "    else:\n",
    "        ls+= '-'"
   ]
  },
  {
   "cell_type": "code",
   "execution_count": 22,
   "id": "196354cd-1b45-46e2-8979-06aabe6cb4e9",
   "metadata": {},
   "outputs": [],
   "source": [
    "#Add residue letters to data frame\n",
    "data['Residue'] = ls"
   ]
  },
  {
   "cell_type": "code",
   "execution_count": 23,
   "id": "759cd2c9-3d6b-4f40-97a4-9f45b38c3c1e",
   "metadata": {},
   "outputs": [],
   "source": [
    "#Extract positions from residue\n",
    "\n",
    "#Create list with column values\n",
    "l=list(data['RESIDUE'])\n",
    "#Convert items in list to strings\n",
    "l = [str(i) for i in l]\n",
    "#Replace charcters - leaving just the numbers\n",
    "l2 = [s.replace('Thr','').replace('Ser','').replace('nan','-').replace('Tyr','') for s in l]\n"
   ]
  },
  {
   "cell_type": "code",
   "execution_count": 24,
   "id": "e2b62e61-1f6a-4dec-9eff-51b1d7b5fa0f",
   "metadata": {},
   "outputs": [],
   "source": [
    "#Add position to data frame\n",
    "data['Position'] = l2"
   ]
  },
  {
   "cell_type": "code",
   "execution_count": 32,
   "id": "fb04dcf0-1854-43c0-972c-8c7423b5a9aa",
   "metadata": {},
   "outputs": [],
   "source": [
    "# Remove kinases with - \n",
    "data = data[data.Position != '-']"
   ]
  },
  {
   "cell_type": "code",
   "execution_count": 34,
   "id": "f063bc95-da34-4524-b43d-2b32dc066b01",
   "metadata": {},
   "outputs": [
    {
     "data": {
      "text/plain": [
       "267"
      ]
     },
     "execution_count": 34,
     "metadata": {},
     "output_type": "execute_result"
    }
   ],
   "source": [
    "#Retain only kinases\n",
    "\n",
    "# create a list of all the kinases\n",
    "def unique(list1):\n",
    " \n",
    "    # initialize a null list\n",
    "    unique_list = []\n",
    "     \n",
    "    # traverse for all elements\n",
    "    for x in list1:\n",
    "        # check if exists in unique_list or not\n",
    "        if x not in unique_list:\n",
    "            unique_list.append(x)\n",
    "    \n",
    "    return unique_list\n",
    "    \n",
    "    # print list\n",
    "    # for x in unique_list:\n",
    "        # print(x)\n",
    "\n",
    "# List of each kinases (each one only once)\n",
    "kinases = unique(data['ENTITYA'])\n",
    "\n",
    "#Remove targets that are not kinases \n",
    "data = data[data['ENTITYB'].isin (kinases)]\n",
    "\n",
    "len(kinases)"
   ]
  },
  {
   "cell_type": "code",
   "execution_count": 39,
   "id": "d63fc5e7-31bf-47a1-b68e-495eb08c7280",
   "metadata": {},
   "outputs": [],
   "source": [
    "# Task 1 answer\n",
    "\n",
    "phosdata = data[['ENTITYB', 'Position','Residue', 'ENTITYA']]\n",
    "\n",
    "# Rename columns\n",
    "phosdata.columns = ['Target', 'Position', 'Residue', 'Kinase']"
   ]
  },
  {
   "cell_type": "code",
   "execution_count": 40,
   "id": "c18e695c-591c-430d-844b-62c39138c8da",
   "metadata": {},
   "outputs": [],
   "source": [
    "#Write to csv\n",
    "phosdata.to_csv('phosdata.csv')"
   ]
  },
  {
   "cell_type": "code",
   "execution_count": null,
   "id": "7c906789-0577-4940-ae92-be7980c34502",
   "metadata": {},
   "outputs": [],
   "source": []
  }
 ],
 "metadata": {
  "kernelspec": {
   "display_name": "Python 3 (ipykernel)",
   "language": "python",
   "name": "python3"
  },
  "language_info": {
   "codemirror_mode": {
    "name": "ipython",
    "version": 3
   },
   "file_extension": ".py",
   "mimetype": "text/x-python",
   "name": "python",
   "nbconvert_exporter": "python",
   "pygments_lexer": "ipython3",
   "version": "3.8.12"
  }
 },
 "nbformat": 4,
 "nbformat_minor": 5
}
